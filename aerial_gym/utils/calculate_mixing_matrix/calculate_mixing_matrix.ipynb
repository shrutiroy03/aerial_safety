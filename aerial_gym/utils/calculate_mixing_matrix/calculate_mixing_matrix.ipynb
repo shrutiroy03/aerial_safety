{
 "cells": [
  {
   "cell_type": "code",
   "execution_count": 7,
   "metadata": {},
   "outputs": [],
   "source": [
    "import yaml\n",
    "import numpy as np\n",
    "from scipy.spatial.transform import Rotation as R\n",
    "\n",
    "def rotmat_from_quat(q):\n",
    "    q = np.array(q)\n",
    "    q = q/np.linalg.norm(q)\n",
    "    return R.from_quat(q).as_matrix()\n",
    "\n",
    "def calc_actuator_mixing_matrix(config_file):\n",
    "    with open(config_file, 'r') as stream:\n",
    "        try:\n",
    "            config = yaml.safe_load(stream)\n",
    "        except yaml.YAMLError as exc:\n",
    "            print(exc)\n",
    "\n",
    "    n_motors = len(config)\n",
    "    actuator_mixing_matrix = np.zeros((6,n_motors))\n",
    "    for i in range(n_motors):\n",
    "        vec_z_mf = np.array([0,0,1]) # motor frame z axis\n",
    "        q_i = np.array(config['motor_'+str(i)]['orientation'])\n",
    "        # rotation matrix from quaternion [x,y,z,w]\n",
    "        rotmat_i = rotmat_from_quat(q_i)\n",
    "        t_i = np.array(config['motor_'+str(i)]['translation'])\n",
    "        torque_direction = -config['motor_'+str(i)]['direction']\n",
    "        torque_constant = config['motor_'+str(i)]['torque_constant']\n",
    "        vec_z_bf = rotmat_i @ vec_z_mf # motor axis in body frame\n",
    "        # forces\n",
    "        actuator_mixing_matrix[:3,i] = vec_z_bf\n",
    "        # torques\n",
    "        actuator_mixing_matrix[3:,i] = np.cross(t_i, vec_z_bf) + vec_z_bf*torque_constant*torque_direction\n",
    "    return actuator_mixing_matrix"
   ]
  },
  {
   "cell_type": "code",
   "execution_count": 8,
   "metadata": {},
   "outputs": [
    {
     "name": "stdout",
     "output_type": "stream",
     "text": [
      "[[ 0.      0.      0.      0.      0.      0.    ]\n",
      " [ 0.      0.      0.      0.      0.      0.    ]\n",
      " [ 1.      1.      1.      1.      1.      1.    ]\n",
      " [-0.0785 -0.0785  0.0785  0.0785 -0.0785  0.0785]\n",
      " [-0.0785  0.0785  0.0785 -0.0785  0.      0.    ]\n",
      " [-0.01   -0.01    0.01    0.01    0.01   -0.01  ]]\n"
     ]
    }
   ],
   "source": [
    "filename = 'motor_config.yaml'\n",
    "mixing_matrix = calc_actuator_mixing_matrix(filename)\n",
    "print(mixing_matrix)\n"
   ]
  },
  {
   "cell_type": "code",
   "execution_count": 13,
   "metadata": {},
   "outputs": [
    {
     "name": "stdout",
     "output_type": "stream",
     "text": [
      "<urdfpy.urdf.URDF object at 0x751e3ce58310>\n",
      "['motor_0', 'motor_1', 'motor_2', 'motor_3', 'motor_4', 'motor_5']\n"
     ]
    }
   ],
   "source": []
  },
  {
   "cell_type": "code",
   "execution_count": 23,
   "metadata": {},
   "outputs": [
    {
     "name": "stdout",
     "output_type": "stream",
     "text": [
      "<urdfpy.urdf.URDF object at 0x751e3cde8280>\n",
      "['motor_0', 'motor_1', 'motor_2', 'motor_3', 'motor_4', 'motor_5']\n",
      "motor_0 [ 8.94974747e-02 -8.14974747e-02  3.42761220e-13  1.00000000e+00]\n",
      "motor_0 0.0 -0.0 -0.78539816339\n",
      "motor_1 [-8.94974747e-02 -8.14974747e-02  3.42761220e-13  1.00000000e+00]\n",
      "motor_1 0.0 -0.0 -2.35619449019\n",
      "motor_2 [-8.94974747e-02  8.14974747e-02  3.42761220e-13  1.00000000e+00]\n",
      "motor_2 0.0 -0.0 2.3561944901923453\n",
      "motor_3 [8.94974747e-02 8.14974747e-02 3.42761220e-13 1.00000000e+00]\n",
      "motor_3 0.0 -0.0 0.7853981633974483\n"
     ]
    }
   ],
   "source": [
    "import urdfpy\n",
    "\n",
    "filename = \"/home/mihir/workspaces/aerial_gym_ws/aerial_gym_simulator/resources/robots/morphy/morphy.urdf\"\n",
    "urdf = urdfpy.URDF.load(filename)\n",
    "print(urdf)\n",
    "n_motors = 6\n",
    "motor_names = ['motor_'+str(i) for i in range(n_motors)]\n",
    "print(motor_names)\n",
    "\n",
    "# get transformation of motor link wrt base link\n",
    "motor_transforms = {}\n",
    "links_fk = urdf.link_fk()\n",
    "for key, value in links_fk.items():\n",
    "    if key.name in motor_names:\n",
    "        transform = value\n",
    "        print(key.name, transform[:, 3])\n",
    "        r, p, y = urdfpy.matrix_to_rpy(transform)\n",
    "        print(key.name, r, p, y)\n"
   ]
  }
 ],
 "metadata": {
  "kernelspec": {
   "display_name": "sample_factory",
   "language": "python",
   "name": "python3"
  },
  "language_info": {
   "codemirror_mode": {
    "name": "ipython",
    "version": 3
   },
   "file_extension": ".py",
   "mimetype": "text/x-python",
   "name": "python",
   "nbconvert_exporter": "python",
   "pygments_lexer": "ipython3",
   "version": "3.8.17"
  }
 },
 "nbformat": 4,
 "nbformat_minor": 2
}
